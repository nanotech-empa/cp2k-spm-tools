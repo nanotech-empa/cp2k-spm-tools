{
 "cells": [
  {
   "cell_type": "code",
   "execution_count": null,
   "metadata": {},
   "outputs": [],
   "source": [
    "import numpy as np\n",
    "\n",
    "import matplotlib.pyplot as plt\n",
    "\n",
    "from cp2k_spm_tools import cp2k_grid_orbitals, cp2k_ftsts, qe_utils"
   ]
  },
  {
   "cell_type": "code",
   "execution_count": null,
   "metadata": {},
   "outputs": [],
   "source": [
    "lat_param = 4.37 # angstrom\n",
    "\n",
    "wfn_file = \"../examples/data/polyphenylene_cp2k_scf/PROJ-RESTART.wfn\"\n",
    "xyz_file = \"../examples/data/polyphenylene_cp2k_scf/ppp_12uc-opt.xyz\"\n",
    "cp2k_inp = \"../examples/data/polyphenylene_cp2k_scf/cp2k.inp\"\n",
    "basis_file = \"../examples/data/BASIS_MOLOPT\""
   ]
  },
  {
   "cell_type": "code",
   "execution_count": null,
   "metadata": {},
   "outputs": [],
   "source": [
    "# define global energy limits (eV)\n",
    "emin = -3.5\n",
    "emax = 3.5"
   ]
  },
  {
   "cell_type": "code",
   "execution_count": null,
   "metadata": {},
   "outputs": [],
   "source": [
    "cp2k_grid_orb = cp2k_grid_orbitals.Cp2kGridOrbitals()\n",
    "cp2k_grid_orb.read_cp2k_input(cp2k_inp)\n",
    "cp2k_grid_orb.read_xyz(xyz_file)\n",
    "cp2k_grid_orb.ase_atoms.center()\n",
    "cp2k_grid_orb.read_basis_functions(basis_file)\n",
    "cp2k_grid_orb.load_restart_wfn_file(wfn_file, emin=emin, emax=emax)"
   ]
  },
  {
   "cell_type": "code",
   "execution_count": null,
   "metadata": {},
   "outputs": [],
   "source": [
    "# define evaluation region (plane)\n",
    "\n",
    "plane_h = 3.5 # ang\n",
    "\n",
    "atoms_max_z = np.max(cp2k_grid_orb.ase_atoms.positions[:, 2]) # ang\n",
    "plane_z = atoms_max_z+plane_h\n",
    "\n",
    "eval_reg = [None, None, [plane_z, plane_z]]"
   ]
  },
  {
   "cell_type": "code",
   "execution_count": null,
   "metadata": {},
   "outputs": [],
   "source": [
    "cp2k_grid_orb.calc_morbs_in_region(0.10,\n",
    "                                x_eval_region = eval_reg[0],\n",
    "                                y_eval_region = eval_reg[1],\n",
    "                                z_eval_region = eval_reg[2],\n",
    "                                reserve_extrap = 0.0,\n",
    "                                pbc = (True, True, False),\n",
    "                                eval_cutoff = 12.0)"
   ]
  },
  {
   "cell_type": "markdown",
   "metadata": {},
   "source": [
    "# QE bands (optional)"
   ]
  },
  {
   "cell_type": "code",
   "execution_count": null,
   "metadata": {},
   "outputs": [],
   "source": [
    "qe_scf_xml = \"../examples/data/polyphenylene_qe_bands/scf.xml\"\n",
    "qe_bands_xml = \"../examples/data/polyphenylene_qe_bands/bands.xml\"\n",
    "\n",
    "qe_kpts = None\n",
    "qe_bands = None\n",
    "if qe_scf_xml is not None and qe_bands_xml is not None:\n",
    "    qe_kpts, qe_bands, _ = qe_utils.read_band_data(qe_bands_xml)\n",
    "    qe_fermi_en = qe_utils.read_scf_data(qe_scf_xml)\n",
    "    qe_gap_middle = qe_utils.gap_middle(qe_bands[0], qe_fermi_en)\n",
    "    qe_bands -= qe_gap_middle"
   ]
  },
  {
   "cell_type": "markdown",
   "metadata": {},
   "source": [
    "# FT-STS"
   ]
  },
  {
   "cell_type": "code",
   "execution_count": null,
   "metadata": {},
   "outputs": [],
   "source": [
    "de = 0.01\n",
    "fwhm = 0.1"
   ]
  },
  {
   "cell_type": "code",
   "execution_count": null,
   "metadata": {},
   "outputs": [],
   "source": [
    "ftsts = cp2k_ftsts.FTSTS(cp2k_grid_orb)\n",
    "ftsts.project_orbitals_1d(gauss_pos=0.0, gauss_fwhm=3.0)\n",
    "borders = ftsts.take_fts(crop_padding=True, crop_edges=1.2, remove_row_avg=True, padding=3.0)\n",
    "ftsts.make_ftldos(emin, emax, de, fwhm)"
   ]
  },
  {
   "cell_type": "code",
   "execution_count": null,
   "metadata": {},
   "outputs": [],
   "source": [
    "imshow_kwargs = {'aspect': 'auto',\n",
    "                 'origin': 'lower',\n",
    "                 #'cmap': 'jet',\n",
    "                 'cmap': 'gist_ncar',\n",
    "                }"
   ]
  },
  {
   "cell_type": "code",
   "execution_count": null,
   "metadata": {},
   "outputs": [],
   "source": [
    "fig, (ax1, ax2) = plt.subplots(1, 2, figsize=(12, 12), gridspec_kw={'width_ratios': [3, 1]})\n",
    "\n",
    "# left side: LDOS\n",
    "ax1.imshow(ftsts.ldos.T, extent=ftsts.ldos_extent, vmax=1.0*np.max(ftsts.ldos), **imshow_kwargs)\n",
    "ax1.axvline(borders[0], color='r')\n",
    "ax1.axvline(borders[1], color='r')\n",
    "ax1.set_ylabel(\"Energy (eV)\")\n",
    "ax1.set_xlabel(\"x (Å)\")\n",
    "\n",
    "# right side: FT-LDOS\n",
    "ftldos, extent = ftsts.get_ftldos_bz(2, lat_param) # number of Brilliuin zones\n",
    "ax2.imshow(ftldos.T, extent=extent, vmax=1.0*np.max(ftldos), **imshow_kwargs)\n",
    "\n",
    "# add also QE bands\n",
    "if qe_bands is not None:\n",
    "    for qe_band in qe_bands[0,]:\n",
    "        plt.plot(2*qe_kpts[:, 0]*2*np.pi/lat_param, qe_band, '-', color='r', linewidth=2.0)\n",
    "\n",
    "ax2.set_ylim([emin, emax])\n",
    "ax2.set_xlabel(\"2k (Å$^{-1}$)\")\n",
    "\n",
    "plt.show()"
   ]
  },
  {
   "cell_type": "markdown",
   "metadata": {},
   "source": [
    "# Plot individual orbitals"
   ]
  },
  {
   "cell_type": "code",
   "execution_count": null,
   "metadata": {},
   "outputs": [],
   "source": [
    "# select orbitals wrt to HOMO\n",
    "index_start = -5\n",
    "index_end = 6\n",
    "\n",
    "i_spin = 0"
   ]
  },
  {
   "cell_type": "code",
   "execution_count": null,
   "metadata": {},
   "outputs": [],
   "source": [
    "for i_mo_wrt_homo in range(index_end, index_start-1, -1):\n",
    "\n",
    "    i_mo = cp2k_grid_orb.i_homo_glob[i_spin] + i_mo_wrt_homo\n",
    "\n",
    "    global_i = cp2k_grid_orb.cwf.global_morb_indexes[i_spin][i_mo]\n",
    "\n",
    "\n",
    "    print(\"%d HOMO%+d, E=%.3f eV\" % (global_i, i_mo_wrt_homo, cp2k_grid_orb.morb_energies[i_spin][i_mo]))\n",
    "    morb = (cp2k_grid_orb.morb_grids[i_spin][i_mo, :, :, 0]).astype(np.float64)\n",
    "    morb_amax = np.max(np.abs(morb))\n",
    "\n",
    "\n",
    "    fig, (ax1, ax2) = plt.subplots(nrows=1, ncols=2, figsize=(16, 3))\n",
    "    plt.subplots_adjust(wspace=0, hspace=0)\n",
    "\n",
    "    ax1.imshow(morb.T, vmin=-morb_amax, vmax=morb_amax,origin='lower', cmap='seismic')\n",
    "    ax1.set_xticks([])\n",
    "    ax1.set_yticks([])\n",
    "\n",
    "    ax2.imshow((morb**2).T,origin='lower', cmap='seismic')\n",
    "    ax2.set_xticks([])\n",
    "    ax2.set_yticks([])\n",
    "\n",
    "    plt.show()"
   ]
  },
  {
   "cell_type": "code",
   "execution_count": null,
   "metadata": {},
   "outputs": [],
   "source": []
  }
 ],
 "metadata": {
  "kernelspec": {
   "display_name": "cp2k-spm-tools",
   "language": "python",
   "name": "python3"
  },
  "language_info": {
   "codemirror_mode": {
    "name": "ipython",
    "version": 3
   },
   "file_extension": ".py",
   "mimetype": "text/x-python",
   "name": "python",
   "nbconvert_exporter": "python",
   "pygments_lexer": "ipython3",
   "version": "3.10.16"
  }
 },
 "nbformat": 4,
 "nbformat_minor": 2
}
