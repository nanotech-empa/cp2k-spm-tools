{
 "cells": [
  {
   "cell_type": "code",
   "execution_count": null,
   "metadata": {},
   "outputs": [],
   "source": [
    "import numpy as np\n",
    "import matplotlib.pyplot as plt\n",
    "\n",
    "import os\n",
    "\n",
    "from cp2k_spm_tools import igor"
   ]
  },
  {
   "cell_type": "code",
   "execution_count": null,
   "metadata": {},
   "outputs": [],
   "source": [
    "import matplotlib\n",
    "\n",
    "class FormatScalarFormatter(matplotlib.ticker.ScalarFormatter):\n",
    "    def __init__(self, fformat=\"%1.1f\", offset=True, mathText=True):\n",
    "        self.fformat = fformat\n",
    "        matplotlib.ticker.ScalarFormatter.__init__(self,useOffset=offset,\n",
    "                                                        useMathText=mathText)\n",
    "    def _set_format(self, vmin, vmax):\n",
    "        self.format = self.fformat\n",
    "        if self._useMathText:\n",
    "            self.format = '$%s$' % matplotlib.ticker._mathdefault(self.format)\n",
    "\n",
    "\n",
    "def make_plot(fig, ax, data, extent, title=None, title_size=None, center0=False, vmin=None, vmax=None, cmap='gist_heat', noadd=False):\n",
    "    if center0:\n",
    "        data_amax = np.max(np.abs(data))\n",
    "        im = ax.imshow(data.T, origin='lower', cmap=cmap, interpolation='bicubic', extent=extent, vmin=-data_amax, vmax=data_amax)\n",
    "    else:\n",
    "        im = ax.imshow(data.T, origin='lower', cmap=cmap, interpolation='bicubic', extent=extent, vmin=vmin, vmax=vmax)\n",
    "\n",
    "    if noadd:\n",
    "        ax.set_xticks([])\n",
    "        ax.set_yticks([])\n",
    "    else:\n",
    "        ax.set_xlabel(r\"x ($\\AA$)\")\n",
    "        ax.set_ylabel(r\"y ($\\AA$)\")\n",
    "        #if 1e-3 < np.max(data) < 1e3:\n",
    "        #    cb = fig.colorbar(im, ax=ax)\n",
    "        #else:\n",
    "        #    cb = fig.colorbar(im, ax=ax, format=FormatScalarFormatter(\"%.1f\"))\n",
    "        cb = fig.colorbar(im, ax=ax)\n",
    "        cb.formatter.set_powerlimits((-2, 2))\n",
    "        cb.update_ticks()\n",
    "    if title:\n",
    "        ax.set_title(title)\n",
    "    if title_size:\n",
    "        ax.title.set_fontsize(title_size)\n",
    "    ax.axis('scaled')\n",
    "\n",
    "\n",
    "def make_series_plot(fig, data, voltages):\n",
    "    for i_bias, bias in enumerate(voltages):\n",
    "        ax = plt.subplot(1, len(voltages), i_bias+1)\n",
    "        make_plot(fig, ax, data[:, :, i_bias], title=\"V=%.2f\"%bias, title_size=22, cmap='gist_heat', noadd=True)"
   ]
  },
  {
   "cell_type": "code",
   "execution_count": null,
   "metadata": {},
   "outputs": [],
   "source": [
    "def make_label(info, index=None, homo_index=None):\n",
    "    if info['type'] == 'const-height sts':\n",
    "        label = 'ch-sts h=%.1f\\n fwhm=%.2f' % (info['height'], info['fwhm'])\n",
    "    elif info['type'] == 'const-height stm':\n",
    "        label = 'ch-stm h=%.1f\\n fwhm=%.2f' % (info['height'], info['fwhm'])\n",
    "    elif info['type'] == 'const-isovalue sts':\n",
    "        label = 'cc-sts isov=%.1e\\n fwhm=%.2f' % (info['isovalue'], info['fwhm'])\n",
    "    elif info['type'] == 'const-isovalue stm':\n",
    "        label = 'cc-stm isov=%.1e\\n fwhm=%.2f' % (info['isovalue'], info['fwhm'])\n",
    "\n",
    "    elif info['type'] == 'const-height orbital':\n",
    "        label = 'ch-orb h=%.1f' % info['height']\n",
    "    elif info['type'] == 'const-isovalue orbital':\n",
    "        label = 'cc-orb isov=%.1e' % info['isovalue']\n",
    "\n",
    "    if index is not None and homo_index is not None:\n",
    "\n",
    "        i_rel_homo = index - homo_index\n",
    "\n",
    "        if i_rel_homo < 0:\n",
    "            hl_label = \"HOMO%+d\" % i_rel_homo\n",
    "        elif i_rel_homo == 0:\n",
    "            hl_label = \"HOMO\"\n",
    "        elif i_rel_homo == 1:\n",
    "            hl_label = \"LUMO\"\n",
    "        else:\n",
    "            hl_label = \"LUMO%+d\" % (i_rel_homo-1)\n",
    "\n",
    "        label += \"\\n\"\n",
    "        label += \"MO %d, \" % index + hl_label\n",
    "\n",
    "    return label"
   ]
  },
  {
   "cell_type": "markdown",
   "metadata": {},
   "source": [
    "# View stm"
   ]
  },
  {
   "cell_type": "code",
   "execution_count": null,
   "metadata": {},
   "outputs": [],
   "source": [
    "npz_path = \"/home/kristjan/work/_tk_cp2k-spm-tools/examples/benzene_stm/out/stm.npz\"\n",
    "loaded_data = np.load(npz_path, allow_pickle=True)"
   ]
  },
  {
   "cell_type": "code",
   "execution_count": null,
   "metadata": {},
   "outputs": [],
   "source": [
    "loaded_data.files"
   ]
  },
  {
   "cell_type": "code",
   "execution_count": null,
   "metadata": {},
   "outputs": [],
   "source": [
    "stm_general_info = loaded_data['stm_general_info'][()]\n",
    "stm_series_info = loaded_data['stm_series_info']\n",
    "stm_series_data = loaded_data['stm_series_data']\n",
    "\n",
    "e_arr = stm_general_info['energies']\n",
    "x_arr = stm_general_info['x_arr'] * 0.529177\n",
    "y_arr = stm_general_info['y_arr'] * 0.529177\n",
    "\n",
    "extent = [np.min(x_arr), np.max(x_arr), np.min(y_arr), np.max(y_arr)]"
   ]
  },
  {
   "cell_type": "code",
   "execution_count": null,
   "metadata": {
    "scrolled": true
   },
   "outputs": [],
   "source": [
    "figsize = (12, 3*(extent[3] - extent[2])/(extent[1] - extent[0]))\n",
    "\n",
    "for i_e, e in enumerate(e_arr):\n",
    "    fig, ax_arr = plt.subplots(1, 4, figsize=figsize)\n",
    "    print(\"E = %.2f eV\" % e)\n",
    "    for i_ax, ax in enumerate(ax_arr):\n",
    "\n",
    "        data = stm_series_data[i_ax]\n",
    "        info = stm_series_info[i_ax]\n",
    "        label = make_label(info)\n",
    "\n",
    "        make_plot(fig, ax, data[i_e], extent, title=label, noadd=True)\n",
    "\n",
    "    plt.show()"
   ]
  },
  {
   "cell_type": "markdown",
   "metadata": {},
   "source": [
    "# View orbitals"
   ]
  },
  {
   "cell_type": "code",
   "execution_count": null,
   "metadata": {},
   "outputs": [],
   "source": [
    "orb_path = \"/home/kristjan/work/_tk_cp2k-spm-tools/examples/benzene_stm/out/orb.npz\"\n",
    "loaded_data = np.load(orb_path, allow_pickle=True)"
   ]
  },
  {
   "cell_type": "code",
   "execution_count": null,
   "metadata": {},
   "outputs": [],
   "source": [
    "s0_orb_general_info = loaded_data['s0_orb_general_info'][()]\n",
    "s0_orb_series_info = loaded_data['s0_orb_series_info']\n",
    "s0_orb_series_data = loaded_data['s0_orb_series_data']\n",
    "\n",
    "e_arr = s0_orb_general_info['energies']\n",
    "x_arr = s0_orb_general_info['x_arr'] * 0.529177\n",
    "y_arr = s0_orb_general_info['y_arr'] * 0.529177\n",
    "\n",
    "extent = [np.min(x_arr), np.max(x_arr), np.min(y_arr), np.max(y_arr)]"
   ]
  },
  {
   "cell_type": "code",
   "execution_count": null,
   "metadata": {
    "scrolled": false
   },
   "outputs": [],
   "source": [
    "for info, data in zip(s0_orb_series_info, s0_orb_series_data):\n",
    "\n",
    "    if info['type'] == 'const-height orbital' and info['height'] == 3.0:\n",
    "        for i_orb in range(len(s0_orb_general_info['orb_indexes'])):\n",
    "\n",
    "            print(e_arr[i_orb])\n",
    "\n",
    "            label = make_label(\n",
    "                info,\n",
    "                s0_orb_general_info['orb_indexes'][i_orb],\n",
    "                s0_orb_general_info['homo']\n",
    "            )\n",
    "\n",
    "            fig = plt.figure(figsize=(3, 3))\n",
    "            ax = plt.gca()\n",
    "            make_plot(fig, ax, data[i_orb], extent, cmap='seismic', center0=True, title=label, noadd=True)\n",
    "            plt.show()"
   ]
  },
  {
   "cell_type": "code",
   "execution_count": null,
   "metadata": {},
   "outputs": [],
   "source": [
    "s0_orb_series_data.shape"
   ]
  },
  {
   "cell_type": "code",
   "execution_count": null,
   "metadata": {},
   "outputs": [],
   "source": [
    "igorwave = igor.Wave2d(\n",
    "        data=s0_orb_series_data[0, 0],\n",
    "        xmin=x_arr[0],\n",
    "        xmax=x_arr[-1],\n",
    "        xlabel='x [Angstroms]',\n",
    "        ymin=y_arr[0],\n",
    "        ymax=y_arr[-1],\n",
    "        ylabel='y [Angstroms]',\n",
    ")\n",
    "igorwave.write(\"orbital.itx\")"
   ]
  },
  {
   "cell_type": "markdown",
   "metadata": {},
   "source": [
    "# Load and format .itx"
   ]
  },
  {
   "cell_type": "code",
   "execution_count": null,
   "metadata": {},
   "outputs": [],
   "source": [
    "igor_file_path = \"/home/kristjan/work/_proj_undecacene/FIGURES/FIG2/orb2_h6.0_s0_10lumo+0_e0.5906_ev.itx\""
   ]
  },
  {
   "cell_type": "code",
   "execution_count": null,
   "metadata": {},
   "outputs": [],
   "source": [
    "igor_wave = igor.igor_wave_factory(igor_file_path)"
   ]
  },
  {
   "cell_type": "code",
   "execution_count": null,
   "metadata": {},
   "outputs": [],
   "source": [
    "fig = plt.figure(figsize=(20, 4))\n",
    "ax = plt.gca()\n",
    "\n",
    "make_plot(fig, ax, igor_wave.data, igor_wave.extent,\n",
    "          vmax=0.9*np.max(igor_wave.data),\n",
    "          vmin=0.0, cmap='gist_gray')\n",
    "\n",
    "plot_name = os.path.splitext(igor_file_path)[0]\n",
    "plt.savefig(plot_name + \".png\", dpi=300, bbox_inches='tight')\n",
    "plt.show()"
   ]
  },
  {
   "cell_type": "code",
   "execution_count": null,
   "metadata": {},
   "outputs": [],
   "source": []
  }
 ],
 "metadata": {
  "kernelspec": {
   "display_name": "Python 3",
   "language": "python",
   "name": "python3"
  },
  "language_info": {
   "codemirror_mode": {
    "name": "ipython",
    "version": 3
   },
   "file_extension": ".py",
   "mimetype": "text/x-python",
   "name": "python",
   "nbconvert_exporter": "python",
   "pygments_lexer": "ipython3",
   "version": "3.7.4"
  }
 },
 "nbformat": 4,
 "nbformat_minor": 2
}
