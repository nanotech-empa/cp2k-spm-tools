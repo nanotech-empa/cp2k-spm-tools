{
 "cells": [
  {
   "cell_type": "code",
   "execution_count": null,
   "metadata": {},
   "outputs": [],
   "source": [
    "import numpy as np\n",
    "import matplotlib.pyplot as plt\n"
   ]
  },
  {
   "cell_type": "code",
   "execution_count": null,
   "metadata": {},
   "outputs": [],
   "source": [
    "import cp2k_spm_tools.postprocess.overlap as pp"
   ]
  },
  {
   "cell_type": "code",
   "execution_count": null,
   "metadata": {},
   "outputs": [],
   "source": [
    "pdos_folder = \"/home/kristjan/local_work/uks_pdos_tests/benz-diradical-scf-au-uks3/\"\n",
    "\n",
    "dos = pp.process_pdos_files(pdos_folder)"
   ]
  },
  {
   "cell_type": "code",
   "execution_count": null,
   "metadata": {},
   "outputs": [],
   "source": [
    "npz_path = \"/home/kristjan/local_work/uks_pdos_tests/overlap_run/overlap-uks3-0.2.npz\"\n",
    "\n",
    "od = pp.load_overlap_npz(npz_path)\n",
    "om = pp.match_and_reduce_spin_channels(od['overlap_matrix'])"
   ]
  },
  {
   "cell_type": "code",
   "execution_count": null,
   "metadata": {},
   "outputs": [],
   "source": [
    "fwhm = 0.10\n",
    "de = np.min([fwhm/5, 0.005])\n",
    "energy_arr = np.arange(-3.0, 3.0, de)"
   ]
  },
  {
   "cell_type": "code",
   "execution_count": null,
   "metadata": {},
   "outputs": [],
   "source": [
    "mpl_def_colors = plt.rcParams['axes.prop_cycle'].by_key()['color']"
   ]
  },
  {
   "cell_type": "code",
   "execution_count": null,
   "metadata": {},
   "outputs": [],
   "source": [
    "pdos_series = [\n",
    "    ['tdos', 'lightgray', 0.02, 'TDOS'],\n",
    "    ['mol', 'black', 1.0, 'molecule PDOS'],\n",
    "]"
   ]
  },
  {
   "cell_type": "code",
   "execution_count": null,
   "metadata": {},
   "outputs": [],
   "source": [
    "fig = plt.figure(figsize=(12, 6))\n",
    "\n",
    "ax1 = plt.gca()\n",
    "ylim = [None, None]\n",
    "\n",
    "mol_series = []\n",
    "\n",
    "### PDOS\n",
    "for pdos_ser in pdos_series:\n",
    "    label = pdos_ser[3] if pdos_ser[2] == 1.0 else fr\"${pdos_ser[2]}\\cdot${pdos_ser[3]}\"\n",
    "    d = dos[pdos_ser[0]]\n",
    "    for i_spin in range(len(d)):\n",
    "        series = pp.create_series_w_broadening(d[i_spin][:, 0], d[i_spin][:, 1], energy_arr, fwhm)\n",
    "        series *= pdos_ser[2]\n",
    "\n",
    "        kwargs = {}\n",
    "        if i_spin == 0:\n",
    "            kwargs['label'] = label\n",
    "        if pdos_ser[0] == 'mol':\n",
    "            kwargs['zorder'] = 300\n",
    "            if i_spin == 0:\n",
    "                ylim[1] = 1.2 * np.max(series)\n",
    "            else:\n",
    "                ylim[0] = 1.2 * np.min(-series)\n",
    "\n",
    "            mol_series.append(series)\n",
    "\n",
    "\n",
    "        ax1.plot(energy_arr, series * (-2* i_spin + 1), color=pdos_ser[1], **kwargs)\n",
    "\n",
    "        ax1.fill_between(energy_arr, 0.0, series * (-2* i_spin + 1), color=pdos_ser[1], alpha=0.2)\n",
    "\n",
    "### Overlap\n",
    "for i_spin in range(od['nspin_g2']):\n",
    "    cumulative = None\n",
    "    for i_orb, energy in enumerate(od['energies_g2'][i_spin]):\n",
    "        index = od['orb_indexes_g2'][i_spin][i_orb]\n",
    "        i_wrt_homo = i_orb - od['homo_i_g2'][i_spin]\n",
    "        label = pp.get_orbital_label(i_wrt_homo)\n",
    "\n",
    "        spin_letter = \"\"\n",
    "        if od['nspin_g2'] == 2:\n",
    "            spin_letter = \"a-\" if i_spin == 0 else \"b-\"\n",
    "\n",
    "        full_label = f'MO{index:2} {spin_letter}{label:6} (E={energy:5.2f})'\n",
    "\n",
    "        series = pp.create_series_w_broadening(od['energies_g1'][i_spin], om[i_spin][:, i_orb], energy_arr, fwhm)\n",
    "\n",
    "        if cumulative is None:\n",
    "            cumulative = series\n",
    "        else:\n",
    "            cumulative += series\n",
    "\n",
    "        # possibly due to numerical precision, the cumulative orbital makeup can slightly\n",
    "        # surpass molecule PDOS. reduce it to the PDOS level\n",
    "        if len(mol_series) != 0:\n",
    "            surpass = cumulative > mol_series[i_spin]\n",
    "            cumulative[surpass] = mol_series[i_spin][surpass]\n",
    "\n",
    "        ax1.fill_between(energy_arr, 0.0, cumulative * (-2* i_spin + 1),\n",
    "                         facecolor=mpl_def_colors[i_orb], alpha=1.0, zorder=-i_orb+100, label=full_label)\n",
    "\n",
    "    if i_spin == 0 and od['nspin_g2'] == 2:\n",
    "        # add empty legend entries to align the spin channels\n",
    "        for i in range(len(pdos_series)):\n",
    "            ax1.fill_between([0.0], 0.0, [0.0], color='w', alpha=0, label=' ')\n",
    "\n",
    "plt.legend(ncol=od['nspin_g2'], loc='center left',bbox_to_anchor=(1.01, 0.5))\n",
    "\n",
    "plt.xlim([np.min(energy_arr), np.max(energy_arr)])\n",
    "\n",
    "if od['nspin_g2'] == 1:\n",
    "    ylim[0] = 0.0\n",
    "plt.ylim(ylim)\n",
    "\n",
    "plt.axhline(0.0, color='k', lw=2.0, zorder=200)\n",
    "\n",
    "plt.ylabel(\"Density of States [a.u.]\")\n",
    "plt.xlabel(\"$E-E_F$ [eV]\")\n",
    "plt.show()"
   ]
  },
  {
   "cell_type": "code",
   "execution_count": null,
   "metadata": {},
   "outputs": [],
   "source": []
  },
  {
   "cell_type": "code",
   "execution_count": null,
   "metadata": {},
   "outputs": [],
   "source": []
  },
  {
   "cell_type": "code",
   "execution_count": null,
   "metadata": {},
   "outputs": [],
   "source": []
  }
 ],
 "metadata": {
  "kernelspec": {
   "display_name": "Python 3",
   "language": "python",
   "name": "python3"
  },
  "language_info": {
   "codemirror_mode": {
    "name": "ipython",
    "version": 3
   },
   "file_extension": ".py",
   "mimetype": "text/x-python",
   "name": "python",
   "nbconvert_exporter": "python",
   "pygments_lexer": "ipython3",
   "version": "3.8.8"
  }
 },
 "nbformat": 4,
 "nbformat_minor": 2
}
