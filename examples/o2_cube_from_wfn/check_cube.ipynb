{
 "cells": [
  {
   "cell_type": "code",
   "execution_count": 1,
   "id": "06c0b247",
   "metadata": {},
   "outputs": [],
   "source": [
    "import numpy as np\n",
    "import matplotlib.pyplot as plt\n",
    "\n",
    "import os\n",
    "\n",
    "from cp2k_spm_tools import cube"
   ]
  },
  {
   "cell_type": "code",
   "execution_count": 6,
   "id": "8a8ba758",
   "metadata": {},
   "outputs": [],
   "source": [
    "wfn1=cube.Cube()\n",
    "wfn2=cube.Cube()\n",
    "cube1=\"o2_cp2k_scf/PROJ-WFN_00007_1-1_0.cube\"\n",
    "cube2=\"o2_cube_from_wfn/cubes/S0_7_HOMO.cube\"\n",
    "cube1=\"tbau2_cp2k_scf/PROJ-WFN_00109_1-1_0.cube\"\n",
    "cube2=\"tbau2_cube_from_wfn/cubes/S0_109_HOMO.cube\"\n",
    "wfn1.read_cube_file(cube1)\n",
    "wfn2.read_cube_file(cube2)"
   ]
  },
  {
   "cell_type": "code",
   "execution_count": 7,
   "id": "9d1e1536",
   "metadata": {},
   "outputs": [],
   "source": [
    "dV1=wfn1.dv_au[0][0]*wfn1.dv_au[1][1]*wfn1.dv_au[2][2]\n",
    "dV2=wfn2.dv_au[0][0]*wfn2.dv_au[1][1]*wfn2.dv_au[2][2]"
   ]
  },
  {
   "cell_type": "code",
   "execution_count": 8,
   "id": "d729c553",
   "metadata": {},
   "outputs": [
    {
     "name": "stdout",
     "output_type": "stream",
     "text": [
      "0.9925371717719614\n",
      "0.9905386069533908\n"
     ]
    }
   ],
   "source": [
    "print(np.sum(wfn1.data *wfn1.data) * dV1)\n",
    "print(np.sum(wfn2.data *wfn2.data) * dV2)"
   ]
  },
  {
   "cell_type": "code",
   "execution_count": 9,
   "id": "dab64f33",
   "metadata": {},
   "outputs": [
    {
     "data": {
      "text/plain": [
       "0.0002507599999999992"
      ]
     },
     "execution_count": 9,
     "metadata": {},
     "output_type": "execute_result"
    }
   ],
   "source": [
    "np.max(np.abs(wfn1.data)-np.abs(wfn2.data))"
   ]
  },
  {
   "cell_type": "code",
   "execution_count": null,
   "id": "612314b7",
   "metadata": {},
   "outputs": [],
   "source": []
  }
 ],
 "metadata": {
  "kernelspec": {
   "display_name": "Python 3 (ipykernel)",
   "language": "python",
   "name": "python3"
  },
  "language_info": {
   "codemirror_mode": {
    "name": "ipython",
    "version": 3
   },
   "file_extension": ".py",
   "mimetype": "text/x-python",
   "name": "python",
   "nbconvert_exporter": "python",
   "pygments_lexer": "ipython3",
   "version": "3.11.4"
  }
 },
 "nbformat": 4,
 "nbformat_minor": 5
}
